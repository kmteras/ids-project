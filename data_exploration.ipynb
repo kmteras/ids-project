{
 "cells": [
  {
   "cell_type": "markdown",
   "metadata": {
    "pycharm": {
     "name": "#%% md\n"
    }
   },
   "source": [
    "# This file is used for exploring the data"
   ]
  },
  {
   "cell_type": "code",
   "execution_count": 1,
   "metadata": {
    "pycharm": {
     "is_executing": false,
     "name": "#%%\n"
    }
   },
   "outputs": [],
   "source": [
    "import pandas as pd\n",
    "from matplotlib.pyplot import hist"
   ]
  },
  {
   "cell_type": "code",
   "execution_count": 2,
   "metadata": {
    "pycharm": {
     "is_executing": false,
     "name": "#%%\n"
    }
   },
   "outputs": [],
   "source": [
    "# Read the smaller files\n",
    "courses = pd.read_csv('data/courses.csv')\n",
    "assessments = pd.read_csv('data/assessments.csv')\n",
    "vle = pd.read_csv('data/vle.csv')"
   ]
  },
  {
   "cell_type": "code",
   "execution_count": 3,
   "metadata": {
    "pycharm": {
     "is_executing": false,
     "name": "#%%\n"
    }
   },
   "outputs": [
    {
     "name": "stdout",
     "output_type": "stream",
     "text": [
      "   code_module code_presentation  module_presentation_length\n",
      "0          AAA             2013J                         268\n",
      "1          AAA             2014J                         269\n",
      "2          BBB             2013J                         268\n",
      "3          BBB             2014J                         262\n",
      "4          BBB             2013B                         240\n",
      "5          BBB             2014B                         234\n",
      "6          CCC             2014J                         269\n",
      "7          CCC             2014B                         241\n",
      "8          DDD             2013J                         261\n",
      "9          DDD             2014J                         262\n",
      "10         DDD             2013B                         240\n",
      "11         DDD             2014B                         241\n",
      "12         EEE             2013J                         268\n",
      "13         EEE             2014J                         269\n",
      "14         EEE             2014B                         241\n",
      "15         FFF             2013J                         268\n",
      "16         FFF             2014J                         269\n",
      "17         FFF             2013B                         240\n",
      "18         FFF             2014B                         241\n",
      "19         GGG             2013J                         261\n",
      "20         GGG             2014J                         269\n",
      "21         GGG             2014B                         241\n",
      "TMA     106\n",
      "CMA      76\n",
      "Exam     24\n",
      "Name: assessment_type, dtype: int64\n",
      "resource          2660\n",
      "subpage           1055\n",
      "oucontent          996\n",
      "url                886\n",
      "forumng            194\n",
      "quiz               127\n",
      "page               102\n",
      "oucollaborate       82\n",
      "questionnaire       61\n",
      "ouwiki              49\n",
      "dataplus            28\n",
      "externalquiz        26\n",
      "homepage            22\n",
      "ouelluminate        21\n",
      "glossary            21\n",
      "dualpane            20\n",
      "repeatactivity       5\n",
      "htmlactivity         4\n",
      "sharedsubpage        3\n",
      "folder               2\n",
      "Name: activity_type, dtype: int64\n"
     ]
    }
   ],
   "source": [
    "print(courses)\n",
    "print(assessments.assessment_type.value_counts())\n",
    "print(vle.activity_type.value_counts())"
   ]
  },
  {
   "cell_type": "code",
   "execution_count": 12,
   "metadata": {
    "pycharm": {
     "is_executing": false,
     "name": "#%%\n"
    },
    "scrolled": true
   },
   "outputs": [
    {
     "data": {
      "text/plain": [
       "(array([ 3., 14.,  2.,  3.,  2.,  8.,  8.,  4.,  5.,  2.,  3.,  5.,  4.,\n",
       "         1.,  3.,  9.,  6.,  6.,  2.,  2.,  7.,  5.,  8.,  5.,  0.,  0.,\n",
       "         2.,  7.,  5.,  2.,  3., 23., 15., 11.,  9.,  0.,  1.]),\n",
       " array([ 12.        ,  18.72972973,  25.45945946,  32.18918919,\n",
       "         38.91891892,  45.64864865,  52.37837838,  59.10810811,\n",
       "         65.83783784,  72.56756757,  79.2972973 ,  86.02702703,\n",
       "         92.75675676,  99.48648649, 106.21621622, 112.94594595,\n",
       "        119.67567568, 126.40540541, 133.13513514, 139.86486486,\n",
       "        146.59459459, 153.32432432, 160.05405405, 166.78378378,\n",
       "        173.51351351, 180.24324324, 186.97297297, 193.7027027 ,\n",
       "        200.43243243, 207.16216216, 213.89189189, 220.62162162,\n",
       "        227.35135135, 234.08108108, 240.81081081, 247.54054054,\n",
       "        254.27027027, 261.        ]),\n",
       " <a list of 37 Patch objects>)"
      ]
     },
     "execution_count": 12,
     "metadata": {},
     "output_type": "execute_result"
    },
    {
     "data": {
      "image/png": "[encoded data removed]",
      "text/plain": [
       "<Figure size 432x288 with 1 Axes>"
      ]
     },
     "metadata": {
      "needs_background": "light"
     },
     "output_type": "display_data"
    }
   ],
   "source": [
    "hist(assessments.date.values, bins=37)"
   ]
  },
  {
   "cell_type": "code",
   "execution_count": 5,
   "metadata": {
    "pycharm": {
     "is_executing": false,
     "name": "#%%\n"
    }
   },
   "outputs": [],
   "source": [
    "# Read the smaller student files\n",
    "\n",
    "students = pd.read_csv('data/studentInfo.csv')\n",
    "student_registration = pd.read_csv('data/studentRegistration.csv')"
   ]
  },
  {
   "cell_type": "code",
   "execution_count": 6,
   "metadata": {
    "pycharm": {
     "is_executing": false,
     "name": "#%%\n"
    }
   },
   "outputs": [
    {
     "name": "stdout",
     "output_type": "stream",
     "text": [
      "M    17875\n",
      "F    14718\n",
      "Name: gender, dtype: int64\n",
      "Scotland                3446\n",
      "East Anglian Region     3340\n",
      "London Region           3216\n",
      "South Region            3092\n",
      "North Western Region    2906\n",
      "West Midlands Region    2582\n",
      "South West Region       2436\n",
      "East Midlands Region    2365\n",
      "South East Region       2111\n",
      "Wales                   2086\n",
      "Yorkshire Region        2006\n",
      "North Region            1823\n",
      "Ireland                 1184\n",
      "Name: region, dtype: int64\n",
      "A Level or Equivalent          14045\n",
      "Lower Than A Level             13158\n",
      "HE Qualification                4730\n",
      "No Formal quals                  347\n",
      "Post Graduate Qualification      313\n",
      "Name: highest_education, dtype: int64\n",
      "BBB    7909\n",
      "FFF    7762\n",
      "DDD    6272\n",
      "CCC    4434\n",
      "EEE    2934\n",
      "GGG    2534\n",
      "AAA     748\n",
      "Name: code_module, dtype: int64\n"
     ]
    }
   ],
   "source": [
    "print(students.gender.value_counts())\n",
    "print(students.region.value_counts())\n",
    "print(students.highest_education.value_counts())\n",
    "print(student_registration.code_module.value_counts())"
   ]
  },
  {
   "cell_type": "code",
   "execution_count": 7,
   "metadata": {
    "pycharm": {
     "is_executing": false,
     "name": "#%%\n"
    }
   },
   "outputs": [],
   "source": [
    "# The assessments\n",
    "student_assessments = pd.read_csv('data/studentAssessment.csv')"
   ]
  },
  {
   "cell_type": "code",
   "execution_count": 8,
   "metadata": {
    "pycharm": {
     "is_executing": false,
     "name": "#%%\n"
    }
   },
   "outputs": [
    {
     "data": {
      "text/plain": [
       "(array([ 1287.,   925.,  2046.,  3320.,  7730., 12578., 25247., 32936.,\n",
       "        44071., 43599.]),\n",
       " array([  0.,  10.,  20.,  30.,  40.,  50.,  60.,  70.,  80.,  90., 100.]),\n",
       " <a list of 10 Patch objects>)"
      ]
     },
     "execution_count": 8,
     "metadata": {},
     "output_type": "execute_result"
    },
    {
     "data": {
      "image/png": "[encoded data removed]",
      "text/plain": [
       "<Figure size 432x288 with 1 Axes>"
      ]
     },
     "metadata": {
      "needs_background": "light"
     },
     "output_type": "display_data"
    }
   ],
   "source": [
    "hist(student_assessments.score.values)"
   ]
  },
  {
   "cell_type": "code",
   "execution_count": 9,
   "metadata": {
    "pycharm": {
     "is_executing": false,
     "name": "#%%\n"
    }
   },
   "outputs": [],
   "source": [
    "# The biggest file of timestamped vle usage\n",
    "# WARNING: A LOT OF DATA\n",
    "student_vle = pd.read_csv('data/studentVle.csv')"
   ]
  },
  {
   "cell_type": "code",
   "execution_count": 14,
   "metadata": {
    "pycharm": {
     "is_executing": false,
     "name": "#%%\n"
    }
   },
   "outputs": [
    {
     "data": {
      "text/plain": [
       "(array([ 13807.,  93573.,  98506., 133055., 152144., 197903., 352998.,\n",
       "        279167., 310602., 268263., 379973., 271290., 296570., 267388.,\n",
       "        185943., 220734., 193727., 223185., 231760., 160956., 167712.,\n",
       "        142723., 188199., 113488., 134864., 113533., 110897., 151886.,\n",
       "        148252., 158805., 142183., 123406., 154980., 122474., 160621.,\n",
       "        131701., 184419., 189887., 141161., 180551., 150965., 166615.,\n",
       "        164799., 145228., 164844., 121588., 163679., 113036., 127445.,\n",
       "        101321.,  80639., 104076.,  93091., 116864., 125013., 107602.,\n",
       "        145925., 115709., 153115., 121766., 176831., 161657., 102105.,\n",
       "        137825., 101376.,  43467.,  14690.,  10342.,  10095.,   6766.,\n",
       "          7619.,   5901.]),\n",
       " array([-25.        , -20.91666667, -16.83333333, -12.75      ,\n",
       "         -8.66666667,  -4.58333333,  -0.5       ,   3.58333333,\n",
       "          7.66666667,  11.75      ,  15.83333333,  19.91666667,\n",
       "         24.        ,  28.08333333,  32.16666667,  36.25      ,\n",
       "         40.33333333,  44.41666667,  48.5       ,  52.58333333,\n",
       "         56.66666667,  60.75      ,  64.83333333,  68.91666667,\n",
       "         73.        ,  77.08333333,  81.16666667,  85.25      ,\n",
       "         89.33333333,  93.41666667,  97.5       , 101.58333333,\n",
       "        105.66666667, 109.75      , 113.83333333, 117.91666667,\n",
       "        122.        , 126.08333333, 130.16666667, 134.25      ,\n",
       "        138.33333333, 142.41666667, 146.5       , 150.58333333,\n",
       "        154.66666667, 158.75      , 162.83333333, 166.91666667,\n",
       "        171.        , 175.08333333, 179.16666667, 183.25      ,\n",
       "        187.33333333, 191.41666667, 195.5       , 199.58333333,\n",
       "        203.66666667, 207.75      , 211.83333333, 215.91666667,\n",
       "        220.        , 224.08333333, 228.16666667, 232.25      ,\n",
       "        236.33333333, 240.41666667, 244.5       , 248.58333333,\n",
       "        252.66666667, 256.75      , 260.83333333, 264.91666667,\n",
       "        269.        ]),\n",
       " <a list of 72 Patch objects>)"
      ]
     },
     "execution_count": 14,
     "metadata": {},
     "output_type": "execute_result"
    },
    {
     "data": {
      "image/png": "[encoded data removed]",
      "text/plain": [
       "<Figure size 432x288 with 1 Axes>"
      ]
     },
     "metadata": {
      "needs_background": "light"
     },
     "output_type": "display_data"
    }
   ],
   "source": [
    "hist(student_vle.date.values, bins=72)\n"
   ]
  }
 ],
 "metadata": {
  "kernelspec": {
   "display_name": "PyCharm (ids-project)",
   "language": "python",
   "name": "pycharm-fb7c88ac"
  },
  "language_info": {
   "codemirror_mode": {
    "name": "ipython",
    "version": 3
   },
   "file_extension": ".py",
   "mimetype": "text/x-python",
   "name": "python",
   "nbconvert_exporter": "python",
   "pygments_lexer": "ipython3",
   "version": "3.7.5"
  },
  "pycharm": {
   "stem_cell": {
    "cell_type": "raw",
    "metadata": {
     "collapsed": false
    },
    "source": []
   }
  }
 },
 "nbformat": 4,
 "nbformat_minor": 1
}
