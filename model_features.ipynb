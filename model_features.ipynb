{
 "cells": [
  {
   "cell_type": "markdown",
   "metadata": {
    "pycharm": {
     "name": "#%% md\n"
    }
   },
   "source": [
    "# This file is used for exploring the data"
   ]
  },
  {
   "cell_type": "code",
   "execution_count": 1,
   "metadata": {
    "pycharm": {
     "is_executing": false,
     "name": "#%%\n"
    }
   },
   "outputs": [],
   "source": [
    "import pandas as pd\n",
    "import numpy as np\n",
    "from matplotlib.pyplot import hist\n",
    "import math\n",
    "import sqlite3"
   ]
  },
  {
   "cell_type": "code",
   "execution_count": 2,
   "metadata": {
    "pycharm": {
     "is_executing": false,
     "name": "#%%\n"
    }
   },
   "outputs": [],
   "source": [
    "# Read in the data\n",
    "courses = pd.read_csv('data/courses.csv')\n",
    "assessments = pd.read_csv('data/assessments.csv')\n",
    "vle = pd.read_csv('data/vle.csv')\n",
    "students = pd.read_csv('data/studentInfo.csv')\n",
    "student_registration = pd.read_csv('data/studentRegistration.csv')\n",
    "student_assessments = pd.read_csv('data/studentAssessment.csv')\n",
    "student_vle = pd.read_csv('data/studentVle.csv')\n",
    "\n",
    "con = sqlite3.connect(\"data/ou.db\")\n",
    "cur = con.cursor()"
   ]
  },
  {
   "cell_type": "code",
   "execution_count": 7,
   "metadata": {},
   "outputs": [
    {
     "data": {
      "text/plain": [
       "resource          2660\n",
       "subpage           1055\n",
       "oucontent          996\n",
       "url                886\n",
       "forumng            194\n",
       "quiz               127\n",
       "page               102\n",
       "oucollaborate       82\n",
       "questionnaire       61\n",
       "ouwiki              49\n",
       "dataplus            28\n",
       "externalquiz        26\n",
       "homepage            22\n",
       "glossary            21\n",
       "ouelluminate        21\n",
       "dualpane            20\n",
       "repeatactivity       5\n",
       "htmlactivity         4\n",
       "sharedsubpage        3\n",
       "folder               2\n",
       "Name: activity_type, dtype: int64"
      ]
     },
     "execution_count": 7,
     "metadata": {},
     "output_type": "execute_result"
    }
   ],
   "source": [
    "test_assessments = student_assessments.copy(deep=True)\n",
    "\n",
    "def add_time_before_deadline():\n",
    "    global test_assessments\n",
    "    joined_assessments = pd.merge(test_assessments, assessments, on='id_assessment')\n",
    "    test_assessments['time_before_deadline'] = joined_assessments['date_submitted'] - joined_assessments['date']\n",
    "    \n",
    "def drop_banked():\n",
    "    global test_assessments\n",
    "    joined_assessments = pd.merge(test_assessments, assessments, on='id_assessment')\n",
    "    test_assessments['is_banked'] = joined_assessments['is_banked']\n",
    "    test_assessments = test_assessments[student_assessments.is_banked == 0]\n",
    "    \n",
    "def add_assessment_info():\n",
    "    global test_assessments\n",
    "    joined_assessments = pd.merge(test_assessments, assessments, on='id_assessment')\n",
    "    test_assessments['weight'] = joined_assessments['weight']\n",
    "    test_assessments['TMA'] = joined_assessments['assessment_type'] == \"TMA\"\n",
    "    test_assessments['Exam'] = joined_assessments['assessment_type'] == \"Exam\"\n",
    "    test_assessments['CMA'] = joined_assessments['assessment_type'] == \"CMA\"\n",
    "\n",
    "def add_previous_average():\n",
    "    global test_assessments\n",
    "    # Use a sqlite database to make some calculations a lot quicker\n",
    "    cur.execute('''\n",
    "    SELECT (SELECT AVG(score)\n",
    "        FROM assessments\n",
    "                 JOIN student_assessments ON assessments.id_assessment = assessments.id_assessment AND\n",
    "                                             student_assessments.id_student = sa.id_student\n",
    "        WHERE date < a.date\n",
    "          AND code_module = a.code_module\n",
    "          AND assessments.code_presentation = a.code_presentation)\n",
    "FROM assessments a\n",
    "         JOIN student_assessments sa ON a.id_assessment = sa.id_assessment;\n",
    "         ''')\n",
    "    test_assessments['prev_avg'] = pd.DataFrame(cur.fetchall(), columns=['avg'])['avg']\n",
    "\n",
    "    \n",
    "# One hot encoding for assessment type\n",
    "add_time_before_deadline()\n",
    "drop_banked()\n",
    "add_assessment_info()\n",
    "add_previous_average()\n",
    "\n",
    "test_assessments.head()\n",
    "\n",
    "vle.activity_type.value_counts()\n",
    "\n",
    "# total days worked on, total time worked on, last average\n"
   ]
  },
  {
   "cell_type": "code",
   "execution_count": 4,
   "metadata": {},
   "outputs": [
    {
     "name": "stdout",
     "output_type": "stream",
     "text": [
      "114108\n"
     ]
    },
    {
     "data": {
      "text/plain": [
       "(array([5.100e+01, 2.000e+00, 3.000e+00, 5.000e+00, 5.000e+00, 5.000e+00,\n",
       "        7.000e+00, 6.000e+00, 5.000e+00, 4.000e+00, 2.100e+01, 1.600e+01,\n",
       "        8.000e+00, 2.400e+01, 1.100e+01, 1.700e+01, 1.500e+01, 2.000e+01,\n",
       "        1.800e+01, 2.100e+01, 6.700e+01, 2.100e+01, 3.500e+01, 3.000e+01,\n",
       "        2.900e+01, 3.300e+01, 2.900e+01, 2.800e+01, 3.200e+01, 4.500e+01,\n",
       "        6.000e+01, 5.100e+01, 3.700e+01, 6.400e+01, 2.400e+01, 6.100e+01,\n",
       "        6.200e+01, 3.200e+01, 8.900e+01, 5.800e+01, 3.380e+02, 5.400e+01,\n",
       "        1.130e+02, 8.500e+01, 1.250e+02, 1.220e+02, 9.300e+01, 9.600e+01,\n",
       "        1.460e+02, 1.240e+02, 2.670e+02, 1.140e+02, 1.760e+02, 1.680e+02,\n",
       "        2.040e+02, 2.390e+02, 2.630e+02, 1.830e+02, 3.110e+02, 1.990e+02,\n",
       "        9.200e+02, 2.390e+02, 3.120e+02, 2.890e+02, 3.530e+02, 4.930e+02,\n",
       "        3.320e+02, 4.180e+02, 4.390e+02, 3.990e+02, 6.940e+02, 3.780e+02,\n",
       "        5.440e+02, 5.350e+02, 5.090e+02, 6.780e+02, 5.320e+02, 4.310e+02,\n",
       "        7.920e+02, 4.520e+02, 2.100e+03, 5.100e+02, 6.110e+02, 6.180e+02,\n",
       "        6.240e+02, 7.430e+02, 6.340e+02, 5.200e+02, 5.980e+02, 5.310e+02,\n",
       "        6.950e+02, 3.800e+02, 5.500e+02, 4.150e+02, 4.640e+02, 3.260e+02,\n",
       "        3.540e+02, 2.150e+02, 2.640e+02, 3.065e+03]),\n",
       " array([  0.,   1.,   2.,   3.,   4.,   5.,   6.,   7.,   8.,   9.,  10.,\n",
       "         11.,  12.,  13.,  14.,  15.,  16.,  17.,  18.,  19.,  20.,  21.,\n",
       "         22.,  23.,  24.,  25.,  26.,  27.,  28.,  29.,  30.,  31.,  32.,\n",
       "         33.,  34.,  35.,  36.,  37.,  38.,  39.,  40.,  41.,  42.,  43.,\n",
       "         44.,  45.,  46.,  47.,  48.,  49.,  50.,  51.,  52.,  53.,  54.,\n",
       "         55.,  56.,  57.,  58.,  59.,  60.,  61.,  62.,  63.,  64.,  65.,\n",
       "         66.,  67.,  68.,  69.,  70.,  71.,  72.,  73.,  74.,  75.,  76.,\n",
       "         77.,  78.,  79.,  80.,  81.,  82.,  83.,  84.,  85.,  86.,  87.,\n",
       "         88.,  89.,  90.,  91.,  92.,  93.,  94.,  95.,  96.,  97.,  98.,\n",
       "         99., 100.]),\n",
       " <a list of 100 Patch objects>)"
      ]
     },
     "execution_count": 4,
     "metadata": {},
     "output_type": "execute_result"
    },
    {
     "data": {
      "image/png": "[encoded data removed]",
      "text/plain": [
       "<Figure size 432x288 with 1 Axes>"
      ]
     },
     "metadata": {
      "needs_background": "light"
     },
     "output_type": "display_data"
    }
   ],
   "source": [
    "from sklearn.model_selection import train_test_split\n",
    "from sklearn.metrics import mean_squared_error\n",
    "from sklearn.preprocessing import PowerTransformer\n",
    "\n",
    "test_assessments = test_assessments.dropna()\n",
    "# 100 and 80 needs to be dealt with, too many of them\n",
    "#test_assessments = test_assessments[test_assessments.score != 100]\n",
    "#test_assessments = test_assessments[test_assessments.score != 80]\n",
    "X = test_assessments\n",
    "X = X.drop([\"id_assessment\", \"id_student\", \"is_banked\", \"score\", \"date_submitted\"], axis=1)\n",
    "\n",
    "y = test_assessments.score\n",
    "\n",
    "X_train, X_test, y_train, y_test = train_test_split(X, y, test_size=0.2)\n",
    "print(len(X_train))\n",
    "hist(y_test, bins=100)"
   ]
  },
  {
   "cell_type": "code",
   "execution_count": 5,
   "metadata": {},
   "outputs": [
    {
     "name": "stdout",
     "output_type": "stream",
     "text": [
      "17.638031369878842\n",
      "27.933581817668326\n",
      "22.85029565449601\n"
     ]
    },
    {
     "data": {
      "image/png": "[encoded data removed]",
      "text/plain": [
       "<Figure size 432x288 with 1 Axes>"
      ]
     },
     "metadata": {
      "needs_background": "light"
     },
     "output_type": "display_data"
    }
   ],
   "source": [
    "from sklearn.linear_model import LinearRegression\n",
    "from sklearn.ensemble import RandomForestClassifier\n",
    "from sklearn.neighbors import KNeighborsClassifier\n",
    "from sklearn.neural_network import MLPClassifier\n",
    "\n",
    "models = [\n",
    "    LinearRegression(),\n",
    "    KNeighborsClassifier(),\n",
    "    #MLPClassifier(),\n",
    "    RandomForestClassifier(random_state=0)\n",
    "]\n",
    "\n",
    "for model in models:\n",
    "    model.fit(X_train, y_train)\n",
    "    y_prediction = model.predict(X_test)\n",
    "    print(math.sqrt(mean_squared_error(y_test, y_prediction)))\n",
    "    hist(y_prediction, bins=100)"
   ]
  }
 ],
 "metadata": {
  "kernelspec": {
   "display_name": "PyCharm (ids-project)",
   "language": "python",
   "name": "pycharm-fb7c88ac"
  },
  "language_info": {
   "codemirror_mode": {
    "name": "ipython",
    "version": 3
   },
   "file_extension": ".py",
   "mimetype": "text/x-python",
   "name": "python",
   "nbconvert_exporter": "python",
   "pygments_lexer": "ipython3",
   "version": "3.7.5"
  },
  "pycharm": {
   "stem_cell": {
    "cell_type": "raw",
    "metadata": {
     "collapsed": false
    },
    "source": []
   }
  }
 },
 "nbformat": 4,
 "nbformat_minor": 1
}
