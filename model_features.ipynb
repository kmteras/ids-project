{
 "cells": [
  {
   "cell_type": "markdown",
   "metadata": {
    "pycharm": {
     "name": "#%% md\n"
    }
   },
   "source": [
    "# This file is used for exploring the data"
   ]
  },
  {
   "cell_type": "code",
   "execution_count": 1,
   "metadata": {
    "pycharm": {
     "is_executing": false,
     "name": "#%%\n"
    }
   },
   "outputs": [],
   "source": [
    "import pandas as pd\n",
    "import numpy as np\n",
    "from matplotlib.pyplot import hist\n",
    "import math\n",
    "import sqlite3"
   ]
  },
  {
   "cell_type": "code",
   "execution_count": 2,
   "metadata": {
    "pycharm": {
     "is_executing": false,
     "name": "#%%\n"
    }
   },
   "outputs": [],
   "source": [
    "# Read in the data\n",
    "courses = pd.read_csv('data/courses.csv')\n",
    "assessments = pd.read_csv('data/assessments.csv')\n",
    "vle = pd.read_csv('data/vle.csv')\n",
    "students = pd.read_csv('data/studentInfo.csv')\n",
    "student_registration = pd.read_csv('data/studentRegistration.csv')\n",
    "student_assessments = pd.read_csv('data/studentAssessment.csv')\n",
    "student_vle = pd.read_csv('data/studentVle.csv')\n",
    "\n",
    "con = sqlite3.connect(\"data/ou.db\")\n",
    "cur = con.cursor()"
   ]
  },
  {
   "cell_type": "code",
   "execution_count": 51,
   "metadata": {},
   "outputs": [
    {
     "data": {
      "text/html": [
       "<div>\n",
       "<style scoped>\n",
       "    .dataframe tbody tr th:only-of-type {\n",
       "        vertical-align: middle;\n",
       "    }\n",
       "\n",
       "    .dataframe tbody tr th {\n",
       "        vertical-align: top;\n",
       "    }\n",
       "\n",
       "    .dataframe thead th {\n",
       "        text-align: right;\n",
       "    }\n",
       "</style>\n",
       "<table border=\"1\" class=\"dataframe\">\n",
       "  <thead>\n",
       "    <tr style=\"text-align: right;\">\n",
       "      <th></th>\n",
       "      <th>id_assessment</th>\n",
       "      <th>id_student</th>\n",
       "      <th>date_submitted</th>\n",
       "      <th>is_banked</th>\n",
       "      <th>score</th>\n",
       "      <th>time_before_deadline</th>\n",
       "      <th>weight</th>\n",
       "      <th>TMA</th>\n",
       "      <th>Exam</th>\n",
       "      <th>CMA</th>\n",
       "      <th>prev_avg</th>\n",
       "    </tr>\n",
       "  </thead>\n",
       "  <tbody>\n",
       "    <tr>\n",
       "      <th>0</th>\n",
       "      <td>1752</td>\n",
       "      <td>11391</td>\n",
       "      <td>18</td>\n",
       "      <td>0</td>\n",
       "      <td>78.0</td>\n",
       "      <td>-1.0</td>\n",
       "      <td>10.0</td>\n",
       "      <td>True</td>\n",
       "      <td>False</td>\n",
       "      <td>False</td>\n",
       "      <td>NaN</td>\n",
       "    </tr>\n",
       "    <tr>\n",
       "      <th>1</th>\n",
       "      <td>1752</td>\n",
       "      <td>28400</td>\n",
       "      <td>22</td>\n",
       "      <td>0</td>\n",
       "      <td>70.0</td>\n",
       "      <td>3.0</td>\n",
       "      <td>10.0</td>\n",
       "      <td>True</td>\n",
       "      <td>False</td>\n",
       "      <td>False</td>\n",
       "      <td>NaN</td>\n",
       "    </tr>\n",
       "    <tr>\n",
       "      <th>2</th>\n",
       "      <td>1752</td>\n",
       "      <td>31604</td>\n",
       "      <td>17</td>\n",
       "      <td>0</td>\n",
       "      <td>72.0</td>\n",
       "      <td>-2.0</td>\n",
       "      <td>10.0</td>\n",
       "      <td>True</td>\n",
       "      <td>False</td>\n",
       "      <td>False</td>\n",
       "      <td>NaN</td>\n",
       "    </tr>\n",
       "    <tr>\n",
       "      <th>3</th>\n",
       "      <td>1752</td>\n",
       "      <td>32885</td>\n",
       "      <td>26</td>\n",
       "      <td>0</td>\n",
       "      <td>69.0</td>\n",
       "      <td>7.0</td>\n",
       "      <td>10.0</td>\n",
       "      <td>True</td>\n",
       "      <td>False</td>\n",
       "      <td>False</td>\n",
       "      <td>NaN</td>\n",
       "    </tr>\n",
       "    <tr>\n",
       "      <th>4</th>\n",
       "      <td>1752</td>\n",
       "      <td>38053</td>\n",
       "      <td>19</td>\n",
       "      <td>0</td>\n",
       "      <td>79.0</td>\n",
       "      <td>0.0</td>\n",
       "      <td>10.0</td>\n",
       "      <td>True</td>\n",
       "      <td>False</td>\n",
       "      <td>False</td>\n",
       "      <td>NaN</td>\n",
       "    </tr>\n",
       "  </tbody>\n",
       "</table>\n",
       "</div>"
      ],
      "text/plain": [
       "   id_assessment  id_student  date_submitted  is_banked  score  \\\n",
       "0           1752       11391              18          0   78.0   \n",
       "1           1752       28400              22          0   70.0   \n",
       "2           1752       31604              17          0   72.0   \n",
       "3           1752       32885              26          0   69.0   \n",
       "4           1752       38053              19          0   79.0   \n",
       "\n",
       "   time_before_deadline  weight   TMA   Exam    CMA  prev_avg  \n",
       "0                  -1.0    10.0  True  False  False       NaN  \n",
       "1                   3.0    10.0  True  False  False       NaN  \n",
       "2                  -2.0    10.0  True  False  False       NaN  \n",
       "3                   7.0    10.0  True  False  False       NaN  \n",
       "4                   0.0    10.0  True  False  False       NaN  "
      ]
     },
     "execution_count": 51,
     "metadata": {},
     "output_type": "execute_result"
    }
   ],
   "source": [
    "test_assessments = student_assessments.copy(deep=True)\n",
    "\n",
    "def add_time_before_deadline():\n",
    "    global test_assessments\n",
    "    joined_assessments = pd.merge(test_assessments, assessments, on='id_assessment')\n",
    "    test_assessments['time_before_deadline'] = joined_assessments['date_submitted'] - joined_assessments['date']\n",
    "    \n",
    "def drop_banked():\n",
    "    global test_assessments\n",
    "    joined_assessments = pd.merge(test_assessments, assessments, on='id_assessment')\n",
    "    test_assessments['is_banked'] = joined_assessments['is_banked']\n",
    "    test_assessments = test_assessments[student_assessments.is_banked == 0]\n",
    "    \n",
    "def add_assessment_info():\n",
    "    global test_assessments\n",
    "    joined_assessments = pd.merge(test_assessments, assessments, on='id_assessment')\n",
    "    test_assessments['weight'] = joined_assessments['weight']\n",
    "    test_assessments['TMA'] = joined_assessments['assessment_type'] == \"TMA\"\n",
    "    test_assessments['Exam'] = joined_assessments['assessment_type'] == \"Exam\"\n",
    "    test_assessments['CMA'] = joined_assessments['assessment_type'] == \"CMA\"\n",
    "\n",
    "def add_previous_average():\n",
    "    global test_assessments\n",
    "    # Use a sqlite database to make some calculations a lot quicker\n",
    "    cur.execute('''\n",
    "    SELECT (SELECT AVG(score)\n",
    "        FROM assessments\n",
    "                 JOIN student_assessments ON assessments.id_assessment = assessments.id_assessment AND\n",
    "                                             student_assessments.id_student = sa.id_student\n",
    "        WHERE date < a.date\n",
    "          AND code_module = a.code_module\n",
    "          AND assessments.code_presentation = a.code_presentation)\n",
    "FROM assessments a\n",
    "         JOIN student_assessments sa ON a.id_assessment = sa.id_assessment;\n",
    "         ''')\n",
    "    test_assessments['prev_avg'] = pd.DataFrame(cur.fetchall(), columns=['avg'])['avg']\n",
    "\n",
    "    \n",
    "# One hot encoding for assessment type\n",
    "add_time_before_deadline()\n",
    "drop_banked()\n",
    "add_assessment_info()\n",
    "add_previous_average()\n",
    "\n",
    "test_assessments.head()\n",
    "\n",
    "# total days worked on, total time worked on, last average\n"
   ]
  },
  {
   "cell_type": "code",
   "execution_count": 56,
   "metadata": {},
   "outputs": [
    {
     "name": "stdout",
     "output_type": "stream",
     "text": [
      "102281\n"
     ]
    },
    {
     "data": {
      "text/plain": [
       "(array([  52.,    3.,    7.,    3.,    6.,    3.,    6.,    5.,    6.,\n",
       "           6.,   13.,   11.,    9.,    7.,   11.,   17.,   11.,   22.,\n",
       "          25.,   17.,   68.,   25.,   29.,   26.,   31.,   36.,   22.,\n",
       "          25.,   48.,   42.,   72.,   45.,   21.,   57.,   31.,   55.,\n",
       "          56.,   49.,   98.,   62.,  321.,   53.,  108.,   71.,  117.,\n",
       "         131.,   99.,  124.,  143.,  113.,  283.,  118.,  160.,  165.,\n",
       "         188.,  229.,  270.,  198.,  272.,  214.,  949.,  235.,  336.,\n",
       "         279.,  324.,  480.,  333.,  408.,  460.,  418.,  753.,  385.,\n",
       "         568.,  519.,  523.,  691.,  517.,  463.,  820.,  448., 2086.,\n",
       "         488.,  563.,  604.,  639.,  710.,  656.,  548.,  579.,  530.,\n",
       "         700.,  393.,  502.,  430.,  474.,  329.,  350.,  214.,  258.,\n",
       "          94.]),\n",
       " array([ 0.  ,  0.99,  1.98,  2.97,  3.96,  4.95,  5.94,  6.93,  7.92,\n",
       "         8.91,  9.9 , 10.89, 11.88, 12.87, 13.86, 14.85, 15.84, 16.83,\n",
       "        17.82, 18.81, 19.8 , 20.79, 21.78, 22.77, 23.76, 24.75, 25.74,\n",
       "        26.73, 27.72, 28.71, 29.7 , 30.69, 31.68, 32.67, 33.66, 34.65,\n",
       "        35.64, 36.63, 37.62, 38.61, 39.6 , 40.59, 41.58, 42.57, 43.56,\n",
       "        44.55, 45.54, 46.53, 47.52, 48.51, 49.5 , 50.49, 51.48, 52.47,\n",
       "        53.46, 54.45, 55.44, 56.43, 57.42, 58.41, 59.4 , 60.39, 61.38,\n",
       "        62.37, 63.36, 64.35, 65.34, 66.33, 67.32, 68.31, 69.3 , 70.29,\n",
       "        71.28, 72.27, 73.26, 74.25, 75.24, 76.23, 77.22, 78.21, 79.2 ,\n",
       "        80.19, 81.18, 82.17, 83.16, 84.15, 85.14, 86.13, 87.12, 88.11,\n",
       "        89.1 , 90.09, 91.08, 92.07, 93.06, 94.05, 95.04, 96.03, 97.02,\n",
       "        98.01, 99.  ]),\n",
       " <a list of 100 Patch objects>)"
      ]
     },
     "execution_count": 56,
     "metadata": {},
     "output_type": "execute_result"
    },
    {
     "data": {
      "image/png": "[encoded data removed]",
      "text/plain": [
       "<Figure size 432x288 with 1 Axes>"
      ]
     },
     "metadata": {
      "needs_background": "light"
     },
     "output_type": "display_data"
    }
   ],
   "source": [
    "from sklearn.model_selection import train_test_split\n",
    "from sklearn.metrics import mean_squared_error\n",
    "from sklearn.preprocessing import PowerTransformer\n",
    "\n",
    "test_assessments = test_assessments.dropna()\n",
    "test_assessments = test_assessments[test_assessments.score != 100]\n",
    "X = test_assessments\n",
    "X = X.drop([\"id_assessment\", \"id_student\", \"is_banked\", \"score\", \"date_submitted\"], axis=1)\n",
    "\n",
    "y = test_assessments.score\n",
    "\n",
    "X_train, X_test, y_train, y_test = train_test_split(X, y, test_size=0.2)\n",
    "print(len(X_train))\n",
    "hist(y_test, bins=100)"
   ]
  },
  {
   "cell_type": "code",
   "execution_count": null,
   "metadata": {},
   "outputs": [],
   "source": [
    "from sklearn.linear_model import LinearRegression\n",
    "from sklearn.ensemble import RandomForestClassifier\n",
    "\n",
    "models = [\n",
    "    #LinearRegression(),\n",
    "    RandomForestClassifier(random_state=0)\n",
    "]\n",
    "\n",
    "for model in models:\n",
    "    model.fit(X_train, y_train)\n",
    "    y_prediction = model.predict(X_test)\n",
    "    print(math.sqrt(mean_squared_error(y_test, y_prediction)))\n",
    "    hist(y_prediction, bins=100)"
   ]
  }
 ],
 "metadata": {
  "kernelspec": {
   "display_name": "PyCharm (ids-project)",
   "language": "python",
   "name": "pycharm-fb7c88ac"
  },
  "language_info": {
   "codemirror_mode": {
    "name": "ipython",
    "version": 3
   },
   "file_extension": ".py",
   "mimetype": "text/x-python",
   "name": "python",
   "nbconvert_exporter": "python",
   "pygments_lexer": "ipython3",
   "version": "3.7.5"
  },
  "pycharm": {
   "stem_cell": {
    "cell_type": "raw",
    "metadata": {
     "collapsed": false
    },
    "source": []
   }
  }
 },
 "nbformat": 4,
 "nbformat_minor": 1
}
