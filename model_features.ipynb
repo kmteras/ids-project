{
 "cells": [
  {
   "cell_type": "markdown",
   "metadata": {
    "pycharm": {
     "name": "#%% md\n"
    }
   },
   "source": [
    "# This file is used for exploring the data"
   ]
  },
  {
   "cell_type": "code",
   "execution_count": 1,
   "metadata": {
    "pycharm": {
     "is_executing": false,
     "name": "#%%\n"
    }
   },
   "outputs": [],
   "source": [
    "import pandas as pd\n",
    "import numpy as np\n",
    "from matplotlib.pyplot import hist\n",
    "import math\n",
    "import sqlite3"
   ]
  },
  {
   "cell_type": "code",
   "execution_count": 2,
   "metadata": {
    "pycharm": {
     "is_executing": false,
     "name": "#%%\n"
    }
   },
   "outputs": [],
   "source": [
    "# Read in the data\n",
    "courses = pd.read_csv('data/courses.csv')\n",
    "assessments = pd.read_csv('data/assessments.csv')\n",
    "vle = pd.read_csv('data/vle.csv')\n",
    "students = pd.read_csv('data/studentInfo.csv')\n",
    "student_registration = pd.read_csv('data/studentRegistration.csv')\n",
    "student_assessments = pd.read_csv('data/studentAssessment.csv')\n",
    "student_vle = pd.read_csv('data/studentVle.csv')\n",
    "\n",
    "con = sqlite3.connect(\"data/ou.db\")\n",
    "cur = con.cursor()"
   ]
  },
  {
   "cell_type": "code",
   "execution_count": 39,
   "metadata": {},
   "outputs": [
    {
     "data": {
      "text/html": [
       "<div>\n",
       "<style scoped>\n",
       "    .dataframe tbody tr th:only-of-type {\n",
       "        vertical-align: middle;\n",
       "    }\n",
       "\n",
       "    .dataframe tbody tr th {\n",
       "        vertical-align: top;\n",
       "    }\n",
       "\n",
       "    .dataframe thead th {\n",
       "        text-align: right;\n",
       "    }\n",
       "</style>\n",
       "<table border=\"1\" class=\"dataframe\">\n",
       "  <thead>\n",
       "    <tr style=\"text-align: right;\">\n",
       "      <th></th>\n",
       "      <th>id_assessment</th>\n",
       "      <th>id_student</th>\n",
       "      <th>date_submitted</th>\n",
       "      <th>is_banked</th>\n",
       "      <th>score</th>\n",
       "      <th>time_before_deadline</th>\n",
       "      <th>weight</th>\n",
       "      <th>TMA</th>\n",
       "      <th>Exam</th>\n",
       "      <th>CMA</th>\n",
       "      <th>prev_avg</th>\n",
       "    </tr>\n",
       "  </thead>\n",
       "  <tbody>\n",
       "    <tr>\n",
       "      <th>0</th>\n",
       "      <td>1752</td>\n",
       "      <td>11391</td>\n",
       "      <td>18</td>\n",
       "      <td>0</td>\n",
       "      <td>78.0</td>\n",
       "      <td>-1.0</td>\n",
       "      <td>10.0</td>\n",
       "      <td>True</td>\n",
       "      <td>False</td>\n",
       "      <td>False</td>\n",
       "      <td>NaN</td>\n",
       "    </tr>\n",
       "    <tr>\n",
       "      <th>1</th>\n",
       "      <td>1752</td>\n",
       "      <td>28400</td>\n",
       "      <td>22</td>\n",
       "      <td>0</td>\n",
       "      <td>70.0</td>\n",
       "      <td>3.0</td>\n",
       "      <td>10.0</td>\n",
       "      <td>True</td>\n",
       "      <td>False</td>\n",
       "      <td>False</td>\n",
       "      <td>NaN</td>\n",
       "    </tr>\n",
       "    <tr>\n",
       "      <th>2</th>\n",
       "      <td>1752</td>\n",
       "      <td>31604</td>\n",
       "      <td>17</td>\n",
       "      <td>0</td>\n",
       "      <td>72.0</td>\n",
       "      <td>-2.0</td>\n",
       "      <td>10.0</td>\n",
       "      <td>True</td>\n",
       "      <td>False</td>\n",
       "      <td>False</td>\n",
       "      <td>NaN</td>\n",
       "    </tr>\n",
       "    <tr>\n",
       "      <th>3</th>\n",
       "      <td>1752</td>\n",
       "      <td>32885</td>\n",
       "      <td>26</td>\n",
       "      <td>0</td>\n",
       "      <td>69.0</td>\n",
       "      <td>7.0</td>\n",
       "      <td>10.0</td>\n",
       "      <td>True</td>\n",
       "      <td>False</td>\n",
       "      <td>False</td>\n",
       "      <td>NaN</td>\n",
       "    </tr>\n",
       "    <tr>\n",
       "      <th>4</th>\n",
       "      <td>1752</td>\n",
       "      <td>38053</td>\n",
       "      <td>19</td>\n",
       "      <td>0</td>\n",
       "      <td>79.0</td>\n",
       "      <td>0.0</td>\n",
       "      <td>10.0</td>\n",
       "      <td>True</td>\n",
       "      <td>False</td>\n",
       "      <td>False</td>\n",
       "      <td>NaN</td>\n",
       "    </tr>\n",
       "  </tbody>\n",
       "</table>\n",
       "</div>"
      ],
      "text/plain": [
       "   id_assessment  id_student  date_submitted  is_banked  score  \\\n",
       "0           1752       11391              18          0   78.0   \n",
       "1           1752       28400              22          0   70.0   \n",
       "2           1752       31604              17          0   72.0   \n",
       "3           1752       32885              26          0   69.0   \n",
       "4           1752       38053              19          0   79.0   \n",
       "\n",
       "   time_before_deadline  weight   TMA   Exam    CMA  prev_avg  \n",
       "0                  -1.0    10.0  True  False  False       NaN  \n",
       "1                   3.0    10.0  True  False  False       NaN  \n",
       "2                  -2.0    10.0  True  False  False       NaN  \n",
       "3                   7.0    10.0  True  False  False       NaN  \n",
       "4                   0.0    10.0  True  False  False       NaN  "
      ]
     },
     "execution_count": 39,
     "metadata": {},
     "output_type": "execute_result"
    }
   ],
   "source": [
    "test_assessments = student_assessments.copy(deep=True)\n",
    "\n",
    "def add_time_before_deadline():\n",
    "    global test_assessments\n",
    "    joined_assessments = pd.merge(test_assessments, assessments, on='id_assessment')\n",
    "    test_assessments['time_before_deadline'] = joined_assessments['date_submitted'] - joined_assessments['date']\n",
    "    \n",
    "def drop_banked():\n",
    "    global test_assessments\n",
    "    joined_assessments = pd.merge(test_assessments, assessments, on='id_assessment')\n",
    "    test_assessments['is_banked'] = joined_assessments['is_banked']\n",
    "    test_assessments = test_assessments[student_assessments.is_banked == 0]\n",
    "    \n",
    "def add_assessment_info():\n",
    "    global test_assessments\n",
    "    joined_assessments = pd.merge(test_assessments, assessments, on='id_assessment')\n",
    "    test_assessments['weight'] = joined_assessments['weight']\n",
    "    test_assessments['TMA'] = joined_assessments['assessment_type'] == \"TMA\"\n",
    "    test_assessments['Exam'] = joined_assessments['assessment_type'] == \"Exam\"\n",
    "    test_assessments['CMA'] = joined_assessments['assessment_type'] == \"CMA\"\n",
    "\n",
    "def add_previous_average():\n",
    "    global test_assessments\n",
    "    # Use a sqlite database to make some calculations a lot quicker\n",
    "    cur.execute('''\n",
    "    SELECT (SELECT AVG(score)\n",
    "        FROM assessments\n",
    "                 JOIN student_assessments ON assessments.id_assessment = assessments.id_assessment AND\n",
    "                                             student_assessments.id_student = sa.id_student\n",
    "        WHERE date < a.date\n",
    "          AND code_module = a.code_module\n",
    "          AND assessments.code_presentation = a.code_presentation)\n",
    "FROM assessments a\n",
    "         JOIN student_assessments sa ON a.id_assessment = sa.id_assessment;\n",
    "         ''')\n",
    "    test_assessments['prev_avg'] = pd.DataFrame(cur.fetchall(), columns=['avg'])['avg']\n",
    "\n",
    "    \n",
    "# One hot encoding for assessment type\n",
    "add_time_before_deadline()\n",
    "drop_banked()\n",
    "add_assessment_info()\n",
    "add_previous_average()\n",
    "\n",
    "test_assessments.head()\n",
    "\n",
    "# total days worked on, total time worked on, last average\n"
   ]
  },
  {
   "cell_type": "code",
   "execution_count": 42,
   "metadata": {},
   "outputs": [
    {
     "name": "stdout",
     "output_type": "stream",
     "text": [
      "114108\n"
     ]
    },
    {
     "data": {
      "text/plain": [
       "(array([6.200e+01, 1.000e+00, 4.000e+00, 7.000e+00, 7.000e+00, 1.000e+01,\n",
       "        5.000e+00, 3.600e+01, 7.000e+00, 1.200e+01, 2.800e+01, 1.200e+01,\n",
       "        3.500e+01, 1.400e+01, 6.800e+01, 5.900e+01, 2.600e+01, 3.500e+01,\n",
       "        5.100e+01, 2.900e+01, 8.200e+01, 7.800e+01, 4.300e+01, 1.110e+02,\n",
       "        4.400e+01, 1.230e+02, 4.800e+01, 8.600e+01, 4.130e+02, 6.000e+01,\n",
       "        1.760e+02, 1.290e+02, 1.230e+02, 1.990e+02, 1.230e+02, 9.800e+01,\n",
       "        3.900e+02, 1.610e+02, 3.650e+02, 2.390e+02, 2.930e+02, 4.730e+02,\n",
       "        2.210e+02, 1.183e+03, 3.050e+02, 3.190e+02, 8.380e+02, 3.310e+02,\n",
       "        9.160e+02, 3.950e+02, 7.210e+02, 9.070e+02, 5.050e+02, 5.310e+02,\n",
       "        1.215e+03, 4.330e+02, 1.182e+03, 2.067e+03, 4.800e+02, 1.267e+03,\n",
       "        6.170e+02, 1.346e+03, 5.030e+02, 6.470e+02, 1.214e+03, 3.810e+02,\n",
       "        9.750e+02, 4.690e+02, 3.350e+02, 5.610e+02, 2.470e+02, 3.051e+03]),\n",
       " array([  0.        ,   1.38888889,   2.77777778,   4.16666667,\n",
       "          5.55555556,   6.94444444,   8.33333333,   9.72222222,\n",
       "         11.11111111,  12.5       ,  13.88888889,  15.27777778,\n",
       "         16.66666667,  18.05555556,  19.44444444,  20.83333333,\n",
       "         22.22222222,  23.61111111,  25.        ,  26.38888889,\n",
       "         27.77777778,  29.16666667,  30.55555556,  31.94444444,\n",
       "         33.33333333,  34.72222222,  36.11111111,  37.5       ,\n",
       "         38.88888889,  40.27777778,  41.66666667,  43.05555556,\n",
       "         44.44444444,  45.83333333,  47.22222222,  48.61111111,\n",
       "         50.        ,  51.38888889,  52.77777778,  54.16666667,\n",
       "         55.55555556,  56.94444444,  58.33333333,  59.72222222,\n",
       "         61.11111111,  62.5       ,  63.88888889,  65.27777778,\n",
       "         66.66666667,  68.05555556,  69.44444444,  70.83333333,\n",
       "         72.22222222,  73.61111111,  75.        ,  76.38888889,\n",
       "         77.77777778,  79.16666667,  80.55555556,  81.94444444,\n",
       "         83.33333333,  84.72222222,  86.11111111,  87.5       ,\n",
       "         88.88888889,  90.27777778,  91.66666667,  93.05555556,\n",
       "         94.44444444,  95.83333333,  97.22222222,  98.61111111,\n",
       "        100.        ]),\n",
       " <a list of 72 Patch objects>)"
      ]
     },
     "execution_count": 42,
     "metadata": {},
     "output_type": "execute_result"
    },
    {
     "data": {
      "image/png": "[encoded data removed]",
      "text/plain": [
       "<Figure size 432x288 with 1 Axes>"
      ]
     },
     "metadata": {
      "needs_background": "light"
     },
     "output_type": "display_data"
    }
   ],
   "source": [
    "from sklearn.model_selection import train_test_split\n",
    "from sklearn.metrics import mean_squared_error\n",
    "\n",
    "test_assessments = test_assessments.dropna()\n",
    "X = test_assessments\n",
    "X = X.drop([\"id_assessment\", \"id_student\", \"is_banked\", \"score\", \"date_submitted\"], axis=1)\n",
    "\n",
    "y = test_assessments.score\n",
    "\n",
    "X_train, X_test, y_train, y_test = train_test_split(X, y, test_size=0.2)\n",
    "print(len(X_train))\n",
    "hist(y_test, bins=72)"
   ]
  },
  {
   "cell_type": "code",
   "execution_count": 43,
   "metadata": {},
   "outputs": [
    {
     "name": "stdout",
     "output_type": "stream",
     "text": [
      "17.655982793372488\n",
      "22.819640761567154\n"
     ]
    },
    {
     "data": {
      "image/png": "[encoded data removed]",
      "text/plain": [
       "<Figure size 432x288 with 1 Axes>"
      ]
     },
     "metadata": {
      "needs_background": "light"
     },
     "output_type": "display_data"
    }
   ],
   "source": [
    "from sklearn.linear_model import LinearRegression\n",
    "from sklearn.ensemble import RandomForestClassifier\n",
    "\n",
    "models = [\n",
    "    LinearRegression(),\n",
    "    RandomForestClassifier(random_state=0)\n",
    "]\n",
    "\n",
    "for model in models:\n",
    "    model.fit(X_train, y_train)\n",
    "    y_prediction = model.predict(X_test)\n",
    "    print(math.sqrt(mean_squared_error(y_test, y_prediction)))\n",
    "    hist(y_prediction, bins=72)"
   ]
  }
 ],
 "metadata": {
  "kernelspec": {
   "display_name": "PyCharm (ids-project)",
   "language": "python",
   "name": "pycharm-fb7c88ac"
  },
  "language_info": {
   "codemirror_mode": {
    "name": "ipython",
    "version": 3
   },
   "file_extension": ".py",
   "mimetype": "text/x-python",
   "name": "python",
   "nbconvert_exporter": "python",
   "pygments_lexer": "ipython3",
   "version": "3.7.5"
  },
  "pycharm": {
   "stem_cell": {
    "cell_type": "raw",
    "metadata": {
     "collapsed": false
    },
    "source": []
   }
  }
 },
 "nbformat": 4,
 "nbformat_minor": 1
}
